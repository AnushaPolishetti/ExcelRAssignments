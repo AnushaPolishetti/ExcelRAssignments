{
 "cells": [
  {
   "cell_type": "markdown",
   "metadata": {},
   "source": [
    "# Assignments_BasicStatistics 2"
   ]
  },
  {
   "cell_type": "markdown",
   "metadata": {},
   "source": [
    "### SET1"
   ]
  },
  {
   "cell_type": "markdown",
   "metadata": {},
   "source": [
    "# import pandas as pd\n",
    "data = pd.read_csv('C:/Users/Anusha/Desktop/ExcelRProjects/dataset/Book.csv')"
   ]
  },
  {
   "cell_type": "code",
   "execution_count": 14,
   "metadata": {},
   "outputs": [
    {
     "data": {
      "text/html": [
       "<div>\n",
       "<style scoped>\n",
       "    .dataframe tbody tr th:only-of-type {\n",
       "        vertical-align: middle;\n",
       "    }\n",
       "\n",
       "    .dataframe tbody tr th {\n",
       "        vertical-align: top;\n",
       "    }\n",
       "\n",
       "    .dataframe thead th {\n",
       "        text-align: right;\n",
       "    }\n",
       "</style>\n",
       "<table border=\"1\" class=\"dataframe\">\n",
       "  <thead>\n",
       "    <tr style=\"text-align: right;\">\n",
       "      <th></th>\n",
       "      <th>Nameofcompany</th>\n",
       "      <th>MeasureX</th>\n",
       "    </tr>\n",
       "  </thead>\n",
       "  <tbody>\n",
       "    <tr>\n",
       "      <th>0</th>\n",
       "      <td>Allied Signal</td>\n",
       "      <td>24.23</td>\n",
       "    </tr>\n",
       "    <tr>\n",
       "      <th>1</th>\n",
       "      <td>Bankers Trust</td>\n",
       "      <td>25.53</td>\n",
       "    </tr>\n",
       "    <tr>\n",
       "      <th>2</th>\n",
       "      <td>General Mills</td>\n",
       "      <td>25.41</td>\n",
       "    </tr>\n",
       "    <tr>\n",
       "      <th>3</th>\n",
       "      <td>ITT Industries</td>\n",
       "      <td>24.14</td>\n",
       "    </tr>\n",
       "    <tr>\n",
       "      <th>4</th>\n",
       "      <td>J.P.Morgan &amp; Co.</td>\n",
       "      <td>29.62</td>\n",
       "    </tr>\n",
       "    <tr>\n",
       "      <th>5</th>\n",
       "      <td>Lehman Brothers</td>\n",
       "      <td>28.25</td>\n",
       "    </tr>\n",
       "    <tr>\n",
       "      <th>6</th>\n",
       "      <td>Marriott</td>\n",
       "      <td>25.81</td>\n",
       "    </tr>\n",
       "    <tr>\n",
       "      <th>7</th>\n",
       "      <td>MCI</td>\n",
       "      <td>24.39</td>\n",
       "    </tr>\n",
       "    <tr>\n",
       "      <th>8</th>\n",
       "      <td>Merrill Lynch</td>\n",
       "      <td>40.26</td>\n",
       "    </tr>\n",
       "    <tr>\n",
       "      <th>9</th>\n",
       "      <td>Microsoft</td>\n",
       "      <td>32.95</td>\n",
       "    </tr>\n",
       "    <tr>\n",
       "      <th>10</th>\n",
       "      <td>Morgan Stanley</td>\n",
       "      <td>91.36</td>\n",
       "    </tr>\n",
       "    <tr>\n",
       "      <th>11</th>\n",
       "      <td>Sun Microsystems</td>\n",
       "      <td>25.99</td>\n",
       "    </tr>\n",
       "    <tr>\n",
       "      <th>12</th>\n",
       "      <td>Travelers</td>\n",
       "      <td>39.42</td>\n",
       "    </tr>\n",
       "    <tr>\n",
       "      <th>13</th>\n",
       "      <td>US Airways</td>\n",
       "      <td>26.71</td>\n",
       "    </tr>\n",
       "    <tr>\n",
       "      <th>14</th>\n",
       "      <td>Warner-Lambert</td>\n",
       "      <td>35.00</td>\n",
       "    </tr>\n",
       "  </tbody>\n",
       "</table>\n",
       "</div>"
      ],
      "text/plain": [
       "       Nameofcompany  MeasureX\n",
       "0      Allied Signal     24.23\n",
       "1      Bankers Trust     25.53\n",
       "2      General Mills     25.41\n",
       "3     ITT Industries     24.14\n",
       "4   J.P.Morgan & Co.     29.62\n",
       "5    Lehman Brothers     28.25\n",
       "6           Marriott     25.81\n",
       "7                MCI     24.39\n",
       "8      Merrill Lynch     40.26\n",
       "9          Microsoft     32.95\n",
       "10    Morgan Stanley     91.36\n",
       "11  Sun Microsystems     25.99\n",
       "12         Travelers     39.42\n",
       "13        US Airways     26.71\n",
       "14    Warner-Lambert     35.00"
      ]
     },
     "execution_count": 14,
     "metadata": {},
     "output_type": "execute_result"
    }
   ],
   "source": [
    "data"
   ]
  },
  {
   "cell_type": "markdown",
   "metadata": {},
   "source": [
    "### Question No.1"
   ]
  },
  {
   "cell_type": "code",
   "execution_count": 19,
   "metadata": {},
   "outputs": [
    {
     "name": "stdout",
     "output_type": "stream",
     "text": [
      "mean value is: 33.27133333333333\n",
      "standard deviation value is: 16.945400921222028\n",
      "Variance for the given set is: 287.1466123809524\n"
     ]
    }
   ],
   "source": [
    "print(\"mean value is:\",data.MeasureX.mean())\n",
    "print(\"standard deviation value is:\",data.MeasureX.std())\n",
    "print(\"Variance for the given set is:\",data.MeasureX.var())"
   ]
  },
  {
   "cell_type": "code",
   "execution_count": 26,
   "metadata": {},
   "outputs": [
    {
     "data": {
      "text/plain": [
       "Text(0, 0.5, 'frequency')"
      ]
     },
     "execution_count": 26,
     "metadata": {},
     "output_type": "execute_result"
    },
    {
     "data": {
      "image/png": "[encoded data removed]",
      "text/plain": [
       "<Figure size 432x288 with 1 Axes>"
      ]
     },
     "metadata": {
      "needs_background": "light"
     },
     "output_type": "display_data"
    }
   ],
   "source": [
    "import matplotlib.pyplot as plt\n",
    "data.plot(kind = \"box\")\n",
    "plt.xlabel(\"MeasureX\")\n",
    "plt.ylabel(\"frequency\")"
   ]
  },
  {
   "cell_type": "code",
   "execution_count": 27,
   "metadata": {},
   "outputs": [
    {
     "data": {
      "text/plain": [
       "count    15.000000\n",
       "mean     33.271333\n",
       "std      16.945401\n",
       "min      24.140000\n",
       "25%      25.470000\n",
       "50%      26.710000\n",
       "75%      33.975000\n",
       "max      91.360000\n",
       "Name: MeasureX, dtype: float64"
      ]
     },
     "execution_count": 27,
     "metadata": {},
     "output_type": "execute_result"
    }
   ],
   "source": [
    "#to find the outliers we have to find the upper quartile and lower quartile value\n",
    "#for that we use describe function\n",
    "data.MeasureX.describe()"
   ]
  },
  {
   "cell_type": "code",
   "execution_count": 29,
   "metadata": {},
   "outputs": [
    {
     "data": {
      "text/plain": [
       "46.7325"
      ]
     },
     "execution_count": 29,
     "metadata": {},
     "output_type": "execute_result"
    }
   ],
   "source": [
    "upperFence = 33.975000+1.5*(33.975000-25.470000)\n",
    "upperFence"
   ]
  },
  {
   "cell_type": "code",
   "execution_count": 32,
   "metadata": {},
   "outputs": [
    {
     "data": {
      "text/html": [
       "<div>\n",
       "<style scoped>\n",
       "    .dataframe tbody tr th:only-of-type {\n",
       "        vertical-align: middle;\n",
       "    }\n",
       "\n",
       "    .dataframe tbody tr th {\n",
       "        vertical-align: top;\n",
       "    }\n",
       "\n",
       "    .dataframe thead th {\n",
       "        text-align: right;\n",
       "    }\n",
       "</style>\n",
       "<table border=\"1\" class=\"dataframe\">\n",
       "  <thead>\n",
       "    <tr style=\"text-align: right;\">\n",
       "      <th></th>\n",
       "      <th>Nameofcompany</th>\n",
       "      <th>MeasureX</th>\n",
       "    </tr>\n",
       "  </thead>\n",
       "  <tbody>\n",
       "    <tr>\n",
       "      <th>10</th>\n",
       "      <td>Morgan Stanley</td>\n",
       "      <td>91.36</td>\n",
       "    </tr>\n",
       "  </tbody>\n",
       "</table>\n",
       "</div>"
      ],
      "text/plain": [
       "     Nameofcompany  MeasureX\n",
       "10  Morgan Stanley     91.36"
      ]
     },
     "execution_count": 32,
     "metadata": {},
     "output_type": "execute_result"
    }
   ],
   "source": [
    "#outilers existing above the upper fence\n",
    "data[data.MeasureX>upperFence]"
   ]
  },
  {
   "cell_type": "code",
   "execution_count": 2,
   "metadata": {},
   "outputs": [
    {
     "data": {
      "text/plain": [
       "0.734"
      ]
     },
     "execution_count": 2,
     "metadata": {},
     "output_type": "execute_result"
    }
   ],
   "source": [
    "from scipy import stats\n",
    "round(stats.norm.cdf(60,55,8),4)"
   ]
  },
  {
   "cell_type": "code",
   "execution_count": 36,
   "metadata": {},
   "outputs": [
    {
     "data": {
      "text/plain": [
       "0.266"
      ]
     },
     "execution_count": 36,
     "metadata": {},
     "output_type": "execute_result"
    }
   ],
   "source": [
    "from scipy import stats\n",
    "round(1-stats.norm.cdf(60,55,8),4)"
   ]
  },
  {
   "cell_type": "code",
   "execution_count": 40,
   "metadata": {},
   "outputs": [
    {
     "data": {
      "text/plain": [
       "0.15865525393145707"
      ]
     },
     "execution_count": 40,
     "metadata": {},
     "output_type": "execute_result"
    }
   ],
   "source": [
    "a =stats.norm.cdf(44,38,6)\n",
    "b =1-stats.norm.cdf(38,38,6)\n",
    "a-b\n",
    "1-a"
   ]
  },
  {
   "cell_type": "code",
   "execution_count": 1,
   "metadata": {},
   "outputs": [],
   "source": [
    "#Set 2"
   ]
  },
  {
   "cell_type": "code",
   "execution_count": 42,
   "metadata": {},
   "outputs": [
    {
     "data": {
      "text/plain": [
       "63.44"
      ]
     },
     "execution_count": 42,
     "metadata": {},
     "output_type": "execute_result"
    }
   ],
   "source": [
    "34.13*400\n",
    "(15.86/100)*400"
   ]
  },
  {
   "cell_type": "code",
   "execution_count": 43,
   "metadata": {},
   "outputs": [
    {
     "data": {
      "text/plain": [
       "0.09121121972586788"
      ]
     },
     "execution_count": 43,
     "metadata": {},
     "output_type": "execute_result"
    }
   ],
   "source": [
    "stats.norm.cdf(30,38,6)"
   ]
  },
  {
   "cell_type": "code",
   "execution_count": 44,
   "metadata": {},
   "outputs": [
    {
     "data": {
      "text/plain": [
       "36.48"
      ]
     },
     "execution_count": 44,
     "metadata": {},
     "output_type": "execute_result"
    }
   ],
   "source": [
    "(9.12/100)*400"
   ]
  },
  {
   "cell_type": "code",
   "execution_count": null,
   "metadata": {},
   "outputs": [],
   "source": [
    "#Question 2"
   ]
  },
  {
   "cell_type": "code",
   "execution_count": 4,
   "metadata": {},
   "outputs": [
    {
     "data": {
      "text/plain": [
       "36.480000000000004"
      ]
     },
     "execution_count": 4,
     "metadata": {},
     "output_type": "execute_result"
    }
   ],
   "source": [
    "#part a\n",
    "#Probability that the no. of employees with age between 38 to 44 years of age\n",
    "a=1-stats.norm.cdf(38,38,6)\n",
    "b=stats.norm.cdf(44,38,6)\n",
    "c= b-a\n",
    "#part b\n",
    "#Probability that the no. of employees with age less than 30 years of age\n",
    "stats.norm.cdf(30,38,6)\n",
    "#probability of less than 30 years of age * total no. of employees\n",
    "e = 0.0912*400\n",
    "e"
   ]
  },
  {
   "cell_type": "code",
   "execution_count": 2,
   "metadata": {},
   "outputs": [],
   "source": [
    "#Question No.4"
   ]
  },
  {
   "cell_type": "code",
   "execution_count": 6,
   "metadata": {},
   "outputs": [
    {
     "name": "stdout",
     "output_type": "stream",
     "text": [
      "The Z score at 0.5 percentile:  -2.576\n",
      "The Z score at 99.5 percentile:  2.576\n"
     ]
    }
   ],
   "source": [
    "from scipy import stats\n",
    "round(stats.norm.ppf(.95),4)\n",
    "print(\"The Z score at 0.5 percentile: \",round(stats.norm.ppf(.005),3))\n",
    "\n",
    "from scipy import stats\n",
    "round(stats.norm.ppf(.95),4)\n",
    "print(\"The Z score at 99.5 percentile: \",round(stats.norm.ppf(.995),3))"
   ]
  },
  {
   "cell_type": "code",
   "execution_count": 9,
   "metadata": {},
   "outputs": [
    {
     "name": "stdout",
     "output_type": "stream",
     "text": [
      "The Z score at 95% probability:  1.96\n",
      "The Z score at 5% probability:  -1.96\n"
     ]
    }
   ],
   "source": [
    "from scipy import stats\n",
    "round(stats.norm.ppf(.95),4)\n",
    "print(\"The Z score at 95% probability: \",round(stats.norm.ppf(.975),3))\n",
    "from scipy import stats\n",
    "round(stats.norm.ppf(.95),4)\n",
    "print(\"The Z score at 5% probability: \",round(stats.norm.ppf(.025),3))"
   ]
  },
  {
   "cell_type": "code",
   "execution_count": 2,
   "metadata": {},
   "outputs": [
    {
     "data": {
      "text/plain": [
       "1.959963984540054"
      ]
     },
     "execution_count": 2,
     "metadata": {},
     "output_type": "execute_result"
    }
   ],
   "source": [
    "from scipy import stats\n",
    "stats.norm.ppf(.975)"
   ]
  },
  {
   "cell_type": "code",
   "execution_count": null,
   "metadata": {},
   "outputs": [],
   "source": []
  },
  {
   "cell_type": "markdown",
   "metadata": {},
   "source": [
    "# set 4"
   ]
  },
  {
   "cell_type": "markdown",
   "metadata": {},
   "source": [
    "### question No.3"
   ]
  },
  {
   "cell_type": "code",
   "execution_count": 3,
   "metadata": {},
   "outputs": [
    {
     "name": "stdout",
     "output_type": "stream",
     "text": [
      "0.10564977366685535\n",
      "0.8943502263331446\n",
      "probability of the mean transaction amount of sample mean in b/w 45, 55 is: 0.7887\n",
      "probability of the mean transaction amount of sample mean not in b/w 45, 55 is: 0.2113\n"
     ]
    }
   ],
   "source": [
    "from scipy import stats\n",
    "# to find the probablity p(45<x<55)\n",
    "pa = stats.norm.cdf(45,50,4)\n",
    "print(pa)\n",
    "pb = stats.norm.cdf(55,50,4)\n",
    "print(pb)\n",
    "print(\"probability of the mean transaction amount of sample mean in b/w 45, 55 is:\",round((pb-pa),4))\n",
    "print(\"probability of the mean transaction amount of sample mean not in b/w 45, 55 is:\",round(1-(pb-pa),4))"
   ]
  },
  {
   "cell_type": "code",
   "execution_count": 28,
   "metadata": {},
   "outputs": [
    {
     "name": "stdout",
     "output_type": "stream",
     "text": [
      "probability of the mean transaction amount of sample mean in b/w 45 at n = 144, 55 is: 0.8703\n",
      "probability of the mean transaction amount of sample mean not in b/w 45 at n = 144, 55 is: 0.1297\n",
      "probability of the mean transaction amount of sample mean in b/w 45 at n = 150, 55 is: 0.8703\n",
      "probability of the mean transaction amount of sample mean not in b/w 45 at n = 150, 55 is: 0.1297\n",
      "probability of the mean transaction amount of sample mean in b/w 45 at n = 196, 55 is: 0.9259\n",
      "probability of the mean transaction amount of sample mean not in b/w 45 at n = 196, 55 is: 0.0741\n",
      "probability of the mean transaction amount of sample mean in b/w 45 at n = 196, 55 is: 0.9545\n",
      "probability of the mean transaction amount of sample mean not in b/w 45 at n = 196, 55 is: 0.0455\n"
     ]
    }
   ],
   "source": [
    "from scipy import stats\n",
    "# to find the probablity p(45<x<55)\n",
    "pa = stats.norm.cdf(45,50,3.3)\n",
    "pb = stats.norm.cdf(55,50,3.3)\n",
    "print(\"probability of the mean transaction amount of sample mean in b/w 45 at n = 144, 55 is:\",round((pb-pa),4))\n",
    "print(\"probability of the mean transaction amount of sample mean not in b/w 45 at n = 144, 55 is:\",round(1-(pb-pa),4))\n",
    "#n = 150\n",
    "pa = stats.norm.cdf(45,50,3.3)\n",
    "pb = stats.norm.cdf(55,50,3.3)\n",
    "print(\"probability of the mean transaction amount of sample mean in b/w 45 at n = 150, 55 is:\",round((pb-pa),4))\n",
    "print(\"probability of the mean transaction amount of sample mean not in b/w 45 at n = 150, 55 is:\",round(1-(pb-pa),4))\n",
    "#n = 196\n",
    "pa = stats.norm.cdf(45,50,2.8)\n",
    "pb = stats.norm.cdf(55,50,2.8)\n",
    "print(\"probability of the mean transaction amount of sample mean in b/w 45 at n = 196, 55 is:\",round((pb-pa),4))\n",
    "print(\"probability of the mean transaction amount of sample mean not in b/w 45 at n = 196, 55 is:\",round(1-(pb-pa),4))\n",
    "#n = 250\n",
    "pa = stats.norm.cdf(45,50,2.5)\n",
    "pb = stats.norm.cdf(55,50,2.5)\n",
    "print(\"probability of the mean transaction amount of sample mean in b/w 45 at n = 196, 55 is:\",round((pb-pa),4))\n",
    "print(\"probability of the mean transaction amount of sample mean not in b/w 45 at n = 196, 55 is:\",round(1-(pb-pa),4))"
   ]
  },
  {
   "cell_type": "code",
   "execution_count": null,
   "metadata": {},
   "outputs": [],
   "source": []
  },
  {
   "cell_type": "code",
   "execution_count": null,
   "metadata": {},
   "outputs": [],
   "source": []
  }
 ],
 "metadata": {
  "kernelspec": {
   "display_name": "Python 3",
   "language": "python",
   "name": "python3"
  },
  "language_info": {
   "codemirror_mode": {
    "name": "ipython",
    "version": 3
   },
   "file_extension": ".py",
   "mimetype": "text/x-python",
   "name": "python",
   "nbconvert_exporter": "python",
   "pygments_lexer": "ipython3",
   "version": "3.8.5"
  }
 },
 "nbformat": 4,
 "nbformat_minor": 4
}
