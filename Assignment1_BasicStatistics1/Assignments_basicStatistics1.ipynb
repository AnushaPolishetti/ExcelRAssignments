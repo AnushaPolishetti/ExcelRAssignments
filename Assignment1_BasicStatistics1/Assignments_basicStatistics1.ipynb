{
 "cells": [
  {
   "cell_type": "markdown",
   "metadata": {},
   "source": [
    "# Assignments"
   ]
  },
  {
   "cell_type": "markdown",
   "metadata": {},
   "source": [
    "# question No.7"
   ]
  },
  {
   "cell_type": "code",
   "execution_count": 1,
   "metadata": {},
   "outputs": [],
   "source": [
    "import pandas as pd\n",
    "df = pd.read_csv('Q7.csv')"
   ]
  },
  {
   "cell_type": "code",
   "execution_count": 24,
   "metadata": {},
   "outputs": [
    {
     "name": "stdout",
     "output_type": "stream",
     "text": [
      "Mean for the given point data set is: 3.5965625000000006\n",
      "Median for the given point data set is: 3.6950000000000003\n",
      "mode of the given point data set is: 0    3.07\n",
      "1    3.92\n",
      "dtype: float64\n",
      "variance for given point data set is: 0.28588135080645166\n",
      "standard deviation for given point data set is: 0.5346787360709716\n",
      "max value for given point data set is: 4.93\n",
      "min value for given point data set is: 2.76\n"
     ]
    }
   ],
   "source": [
    "print(\"Mean for the given point data set is:\",df.Points.mean())\n",
    "print(\"Median for the given point data set is:\",df.Points.median())\n",
    "print(\"mode of the given point data set is:\",df.Points.mode())\n",
    "print(\"variance for given point data set is:\",df.Points.var())\n",
    "print(\"standard deviation for given point data set is:\",df.Points.std())\n",
    "print(\"max value for given point data set is:\",df.Points.max())\n",
    "print(\"min value for given point data set is:\",df.Points.min())"
   ]
  },
  {
   "cell_type": "code",
   "execution_count": 26,
   "metadata": {},
   "outputs": [
    {
     "name": "stdout",
     "output_type": "stream",
     "text": [
      "Mean for the given score data set is: 3.2172499999999995\n",
      "Median for the given score data set is: 3.325\n",
      "mode of the given score data set is: 0    3.44\n",
      "dtype: float64\n",
      "variance for given score data set is: 0.9573789677419354\n",
      "standard deviation for given score data set is: 0.9784574429896966\n",
      "max value for given score data set is: 5.4239999999999995\n",
      "min value for given score data set is: 1.5130000000000001\n"
     ]
    }
   ],
   "source": [
    "print(\"Mean for the given score data set is:\",df.Score.mean())\n",
    "print(\"Median for the given score data set is:\",df.Score.median())\n",
    "print(\"mode of the given score data set is:\",df.Score.mode())\n",
    "print(\"variance for given score data set is:\",df.Score.var())\n",
    "print(\"standard deviation for given score data set is:\",df.Score.std())\n",
    "print(\"max value for given score data set is:\",df.Score.max())\n",
    "print(\"min value for given score data set is:\",df.Score.min())"
   ]
  },
  {
   "cell_type": "code",
   "execution_count": 28,
   "metadata": {},
   "outputs": [
    {
     "name": "stdout",
     "output_type": "stream",
     "text": [
      "Mean for the given Weigh data set is: 17.848750000000003\n",
      "Median for the given Weigh data set is: 17.71\n",
      "mode of the given Weigh  set is: 0    17.02\n",
      "1    18.90\n",
      "dtype: float64\n",
      "variance for given Weigh data set is: 3.193166129032258\n",
      "standard deviation for given Weigh data set is: 1.7869432360968431\n",
      "max value for given Weigh data set is: 22.9\n",
      "min value for given Weigh data set is: 14.5\n"
     ]
    }
   ],
   "source": [
    "print(\"Mean for the given Weigh data set is:\",df.Weigh.mean())\n",
    "print(\"Median for the given Weigh data set is:\",df.Weigh.median())\n",
    "print(\"mode of the given Weigh  set is:\",df.Weigh.mode())\n",
    "print(\"variance for given Weigh data set is:\",df.Weigh.var())\n",
    "print(\"standard deviation for given Weigh data set is:\",df.Weigh.std())\n",
    "print(\"max value for given Weigh data set is:\",df.Weigh.max())\n",
    "print(\"min value for given Weigh data set is:\",df.Weigh.min())"
   ]
  },
  {
   "cell_type": "markdown",
   "metadata": {},
   "source": [
    "# question No.9"
   ]
  },
  {
   "cell_type": "code",
   "execution_count": 11,
   "metadata": {},
   "outputs": [
    {
     "name": "stdout",
     "output_type": "stream",
     "text": [
      "skewness of the speed dataset is: -0.11750986144663393\n",
      "kurtosis of the given speed dataset is -0.5089944204057617\n",
      "skewness of the dist dataset is: 0.8068949601674215\n",
      "kurtosis of the given dist dataset is 0.4050525816795765\n"
     ]
    }
   ],
   "source": [
    "import pandas as pd\n",
    "data1 = pd.read_csv('Q9a.csv')\n",
    "print(\"skewness of the speed dataset is:\",data1.speed.skew())\n",
    "print(\"kurtosis of the given speed dataset is\",data1.speed.kurt())\n",
    "print(\"skewness of the dist dataset is:\",data1.dist.skew())\n",
    "print(\"kurtosis of the given dist dataset is\",data1.dist.kurt())"
   ]
  },
  {
   "cell_type": "code",
   "execution_count": 12,
   "metadata": {},
   "outputs": [
    {
     "name": "stdout",
     "output_type": "stream",
     "text": [
      "skewness of the SP dataset is: 1.6114501961773555\n",
      "kurtosis of the given SP dataset is 2.9773289437871764\n",
      "skewness of the WT dataset is: -0.6147533255357768\n",
      "kurtosis of the given WT dataset is 0.9502914910300326\n"
     ]
    }
   ],
   "source": [
    "import pandas as pd\n",
    "data1 = pd.read_csv('Q9b.csv')\n",
    "print(\"skewness of the SP dataset is:\",data1.SP.skew())\n",
    "print(\"kurtosis of the given SP dataset is\",data1.SP.kurt())\n",
    "print(\"skewness of the WT dataset is:\",data1.WT.skew())\n",
    "print(\"kurtosis of the given WT dataset is\",data1.WT.kurt())"
   ]
  },
  {
   "cell_type": "code",
   "execution_count": null,
   "metadata": {},
   "outputs": [],
   "source": []
  },
  {
   "cell_type": "markdown",
   "metadata": {},
   "source": [
    "# question No.11"
   ]
  },
  {
   "cell_type": "code",
   "execution_count": 13,
   "metadata": {},
   "outputs": [
    {
     "name": "stdout",
     "output_type": "stream",
     "text": [
      "t value at 94% 1.8818614764780113\n",
      " z vaue at 94% 1.8807936081512509\n",
      "confidence interval min is: 198.7388475212987\n",
      "confidence interval max is: 201.2611524787013\n",
      "t value at 98% 2.328214776106972\n",
      " z vaue at 98% 2.3263478740408408\n",
      "confidence interval min is: 198.4436841752197\n",
      "confidence interval max is: 201.5563158247803\n",
      "t value at 96% 2.055089962825778\n",
      " z vaue at 96% 2.0537489106318225\n",
      "confidence interval min is: 198.62145300865365\n",
      "confidence interval max is: 201.37854699134635\n"
     ]
    }
   ],
   "source": [
    "from scipy import stats\n",
    "import pandas as pd\n",
    "print(\"t value at 94%\",stats.t.ppf(0.97,1999))\n",
    "print(\" z vaue at 94%\",stats.norm.ppf(0.97))\n",
    "print(\"confidence interval min is:\",(200 - 1.88*(30/44.721)))\n",
    "print(\"confidence interval max is:\",(200 + 1.88*(30/44.721)))\n",
    "print(\"t value at 98%\",stats.t.ppf(0.99,1999))\n",
    "print(\" z vaue at 98%\",stats.norm.ppf(0.99))\n",
    "print(\"confidence interval min is:\",(200 - 2.32*(30/44.721)))\n",
    "print(\"confidence interval max is:\",(200 + 2.32*(30/44.721)))\n",
    "print(\"t value at 96%\",stats.t.ppf(0.98,1999))\n",
    "print(\" z vaue at 96%\",stats.norm.ppf(0.98))\n",
    "print(\"confidence interval min is:\",(200 - 2.055*(30/44.721)))\n",
    "print(\"confidence interval max is:\",(200 + 2.055*(30/44.721)))"
   ]
  },
  {
   "cell_type": "code",
   "execution_count": 95,
   "metadata": {},
   "outputs": [
    {
     "data": {
      "text/plain": [
       "3.09"
      ]
     },
     "execution_count": 95,
     "metadata": {},
     "output_type": "execute_result"
    }
   ],
   "source": [
    "1*0.015+4*0.20+3*0.65+5*0.005+6*0.01+2*0.120"
   ]
  },
  {
   "cell_type": "code",
   "execution_count": 96,
   "metadata": {},
   "outputs": [
    {
     "data": {
      "text/plain": [
       "145.33333333333334"
      ]
     },
     "execution_count": 96,
     "metadata": {},
     "output_type": "execute_result"
    }
   ],
   "source": [
    " 108*1/9 + 110*1/9 +123*1/9+134*1/9 +135*1/9+145*1/9 +167*1/9 + 187*1/9 +199*1/9"
   ]
  },
  {
   "cell_type": "markdown",
   "metadata": {},
   "source": [
    "# question 12"
   ]
  },
  {
   "cell_type": "code",
   "execution_count": null,
   "metadata": {},
   "outputs": [],
   "source": []
  },
  {
   "cell_type": "code",
   "execution_count": 15,
   "metadata": {},
   "outputs": [
    {
     "name": "stdout",
     "output_type": "stream",
     "text": [
      "Mean for the given data set is: 0    41.0\n",
      "dtype: float64\n",
      "Median for the given data set is: 0    40.5\n",
      "dtype: float64\n",
      "mode of the given data set is:     0\n",
      "0  41\n",
      "variance for given data set is: 0    25.529412\n",
      "dtype: float64\n",
      "standard deviation for given data set is: 0    5.052664\n",
      "dtype: float64\n"
     ]
    }
   ],
   "source": [
    "import pandas as pd\n",
    "data =(34,36,36,38,38,39,39,40,40,41,41,41,41,42,42,45,49,56)\n",
    "df = pd.DataFrame(data)\n",
    "print(\"Mean for the given data set is:\",df.mean())\n",
    "print(\"Median for the given data set is:\",df.median())\n",
    "print(\"mode of the given data set is:\",df.mode())\n",
    "print(\"variance for given data set is:\",df.var())\n",
    "print(\"standard deviation for given data set is:\",df.std())"
   ]
  },
  {
   "cell_type": "code",
   "execution_count": 16,
   "metadata": {},
   "outputs": [
    {
     "data": {
      "text/plain": [
       "<AxesSubplot:>"
      ]
     },
     "execution_count": 16,
     "metadata": {},
     "output_type": "execute_result"
    },
    {
     "data": {
      "image/png": "[encoded data removed]",
      "text/plain": [
       "<Figure size 432x288 with 1 Axes>"
      ]
     },
     "metadata": {
      "needs_background": "light"
     },
     "output_type": "display_data"
    }
   ],
   "source": [
    "import matplotlib.pyplot as plt\n",
    "df.plot(kind = \"box\")"
   ]
  },
  {
   "cell_type": "code",
   "execution_count": 17,
   "metadata": {},
   "outputs": [
    {
     "data": {
      "text/plain": [
       "<AxesSubplot:ylabel='Frequency'>"
      ]
     },
     "execution_count": 17,
     "metadata": {},
     "output_type": "execute_result"
    },
    {
     "data": {
      "image/png": "[encoded data removed]",
      "text/plain": [
       "<Figure size 432x288 with 1 Axes>"
      ]
     },
     "metadata": {
      "needs_background": "light"
     },
     "output_type": "display_data"
    }
   ],
   "source": [
    "import matplotlib.pyplot as plt\n",
    "df.plot(kind = \"hist\")"
   ]
  },
  {
   "cell_type": "markdown",
   "metadata": {},
   "source": [
    "## question no 20"
   ]
  },
  {
   "cell_type": "code",
   "execution_count": 19,
   "metadata": {},
   "outputs": [
    {
     "name": "stdout",
     "output_type": "stream",
     "text": [
      "34.422075728024666\n",
      "9.131444731795982\n",
      "probabilty of mpg of x >38 is: 0.3475939251582705\n",
      "probabilty of mpg of x <40 is: 0.7293498762151616\n",
      "probability of mpg between 20 and 50 0.013116469610523374\n"
     ]
    }
   ],
   "source": [
    "import pandas as pd\n",
    "from scipy import stats\n",
    "\n",
    "cars = pd.read_csv('Cars.csv')\n",
    "#Probability of x> 38\n",
    "print(cars.MPG.mean())\n",
    "print(cars.MPG.std())\n",
    "pa =1-stats.norm.cdf( 38,\n",
    "loc=cars.MPG.mean(),\n",
    "scale=cars.MPG.std())\n",
    "print('probabilty of mpg of x >38 is:',pa)\n",
    "\n",
    "#Probability of x< 40\n",
    "\n",
    "pb =stats.norm.cdf( 40,\n",
    "loc=cars.MPG.mean(),\n",
    "scale=cars.MPG.std())\n",
    "print('probabilty of mpg of x <40 is:',pb)\n",
    "\n",
    "#probability of 20<MPG<50\n",
    "\n",
    "#probablity of x>20 is \n",
    "pc =1-stats.norm.cdf( 20,\n",
    "loc=cars.MPG.mean(),\n",
    "scale=cars.MPG.std())\n",
    "\n",
    "#probablity of x<50 is \n",
    "pe =stats.norm.cdf( 50,\n",
    "loc=cars.MPG.mean(),\n",
    "scale=cars.MPG.std())\n",
    "pe\n",
    "#probability of 20<MPG<50\n",
    "p = pe - pc\n",
    "print('probability of mpg between 20 and 50',p)"
   ]
  },
  {
   "cell_type": "markdown",
   "metadata": {},
   "source": [
    "# question No.21(a)"
   ]
  },
  {
   "cell_type": "code",
   "execution_count": 19,
   "metadata": {},
   "outputs": [
    {
     "name": "stderr",
     "output_type": "stream",
     "text": [
      "C:\\Users\\Anusha\\anaconda3\\lib\\site-packages\\seaborn\\distributions.py:2551: FutureWarning: `distplot` is a deprecated function and will be removed in a future version. Please adapt your code to use either `displot` (a figure-level function with similar flexibility) or `histplot` (an axes-level function for histograms).\n",
      "  warnings.warn(msg, FutureWarning)\n"
     ]
    },
    {
     "data": {
      "image/png": "[encoded data removed]",
      "text/plain": [
       "<Figure size 432x288 with 1 Axes>"
      ]
     },
     "metadata": {
      "needs_background": "light"
     },
     "output_type": "display_data"
    }
   ],
   "source": [
    "import matplotlib.pyplot as plt\n",
    "import seaborn as sn\n",
    "\n",
    "sn.distplot(cars.MPG, label = 'CARS_MPG');\n",
    "plt.xlabel('MPG');\n",
    "plt.ylabel('Density');\n",
    "plt.legend();"
   ]
  },
  {
   "cell_type": "code",
   "execution_count": 29,
   "metadata": {},
   "outputs": [
    {
     "name": "stdout",
     "output_type": "stream",
     "text": [
      "mean is :34.422075728024666\n",
      "median is :35.15272697\n",
      "mode is: 0    29.629936\n",
      "dtype: float64\n",
      "skewness is:-0.17794674747025727\n",
      "basic measures of central tendency is: count    81.000000\n",
      "mean     34.422076\n",
      "std       9.131445\n",
      "min      12.101263\n",
      "25%      27.856252\n",
      "50%      35.152727\n",
      "75%      39.531633\n",
      "max      53.700681\n",
      "Name: MPG, dtype: float64\n"
     ]
    }
   ],
   "source": [
    "print(\"mean is :\"+ str(cars.MPG.mean()))\n",
    "print(\"median is :\"+ str(cars.MPG.median()))\n",
    "print(\"mode is:\",cars.MPG.mode())\n",
    "print(\"skewness is:\"+ str(cars.MPG.skew()))\n",
    "\n",
    "print(\"basic measures of central tendency is:\", cars.MPG.describe())"
   ]
  },
  {
   "cell_type": "markdown",
   "metadata": {},
   "source": [
    "# question No.21(b)"
   ]
  },
  {
   "cell_type": "code",
   "execution_count": 31,
   "metadata": {},
   "outputs": [
    {
     "data": {
      "text/html": [
       "<div>\n",
       "<style scoped>\n",
       "    .dataframe tbody tr th:only-of-type {\n",
       "        vertical-align: middle;\n",
       "    }\n",
       "\n",
       "    .dataframe tbody tr th {\n",
       "        vertical-align: top;\n",
       "    }\n",
       "\n",
       "    .dataframe thead th {\n",
       "        text-align: right;\n",
       "    }\n",
       "</style>\n",
       "<table border=\"1\" class=\"dataframe\">\n",
       "  <thead>\n",
       "    <tr style=\"text-align: right;\">\n",
       "      <th></th>\n",
       "      <th>Waist</th>\n",
       "      <th>AT</th>\n",
       "    </tr>\n",
       "  </thead>\n",
       "  <tbody>\n",
       "    <tr>\n",
       "      <th>0</th>\n",
       "      <td>74.75</td>\n",
       "      <td>25.72</td>\n",
       "    </tr>\n",
       "    <tr>\n",
       "      <th>1</th>\n",
       "      <td>72.60</td>\n",
       "      <td>25.89</td>\n",
       "    </tr>\n",
       "    <tr>\n",
       "      <th>2</th>\n",
       "      <td>81.80</td>\n",
       "      <td>42.60</td>\n",
       "    </tr>\n",
       "    <tr>\n",
       "      <th>3</th>\n",
       "      <td>83.95</td>\n",
       "      <td>42.80</td>\n",
       "    </tr>\n",
       "    <tr>\n",
       "      <th>4</th>\n",
       "      <td>74.65</td>\n",
       "      <td>29.84</td>\n",
       "    </tr>\n",
       "    <tr>\n",
       "      <th>...</th>\n",
       "      <td>...</td>\n",
       "      <td>...</td>\n",
       "    </tr>\n",
       "    <tr>\n",
       "      <th>104</th>\n",
       "      <td>100.10</td>\n",
       "      <td>124.00</td>\n",
       "    </tr>\n",
       "    <tr>\n",
       "      <th>105</th>\n",
       "      <td>93.30</td>\n",
       "      <td>62.20</td>\n",
       "    </tr>\n",
       "    <tr>\n",
       "      <th>106</th>\n",
       "      <td>101.80</td>\n",
       "      <td>133.00</td>\n",
       "    </tr>\n",
       "    <tr>\n",
       "      <th>107</th>\n",
       "      <td>107.90</td>\n",
       "      <td>208.00</td>\n",
       "    </tr>\n",
       "    <tr>\n",
       "      <th>108</th>\n",
       "      <td>108.50</td>\n",
       "      <td>208.00</td>\n",
       "    </tr>\n",
       "  </tbody>\n",
       "</table>\n",
       "<p>109 rows × 2 columns</p>\n",
       "</div>"
      ],
      "text/plain": [
       "      Waist      AT\n",
       "0     74.75   25.72\n",
       "1     72.60   25.89\n",
       "2     81.80   42.60\n",
       "3     83.95   42.80\n",
       "4     74.65   29.84\n",
       "..      ...     ...\n",
       "104  100.10  124.00\n",
       "105   93.30   62.20\n",
       "106  101.80  133.00\n",
       "107  107.90  208.00\n",
       "108  108.50  208.00\n",
       "\n",
       "[109 rows x 2 columns]"
      ]
     },
     "execution_count": 31,
     "metadata": {},
     "output_type": "execute_result"
    }
   ],
   "source": [
    "import pandas as pd\n",
    "wcat = pd.read_csv('wc-at.csv')\n",
    "wcat"
   ]
  },
  {
   "cell_type": "code",
   "execution_count": 32,
   "metadata": {},
   "outputs": [
    {
     "name": "stderr",
     "output_type": "stream",
     "text": [
      "C:\\Users\\Anusha\\anaconda3\\lib\\site-packages\\seaborn\\distributions.py:2551: FutureWarning: `distplot` is a deprecated function and will be removed in a future version. Please adapt your code to use either `displot` (a figure-level function with similar flexibility) or `histplot` (an axes-level function for histograms).\n",
      "  warnings.warn(msg, FutureWarning)\n"
     ]
    },
    {
     "data": {
      "image/png": "[encoded data removed]",
      "text/plain": [
       "<Figure size 432x288 with 1 Axes>"
      ]
     },
     "metadata": {
      "needs_background": "light"
     },
     "output_type": "display_data"
    }
   ],
   "source": [
    "import matplotlib.pyplot as plt\n",
    "import seaborn as sn\n",
    "\n",
    "sn.distplot(wcat.Waist, label = 'WC_AT_Waist');\n",
    "plt.xlabel('Waist');\n",
    "plt.ylabel('Density');\n",
    "plt.legend();"
   ]
  },
  {
   "cell_type": "code",
   "execution_count": 33,
   "metadata": {},
   "outputs": [
    {
     "name": "stdout",
     "output_type": "stream",
     "text": [
      "mean is :91.90183486238533\n",
      "median is :90.8\n",
      "mode is: 0     94.5\n",
      "1    106.0\n",
      "2    108.5\n",
      "dtype: float64\n",
      "skewness is:0.1340560824786468\n"
     ]
    }
   ],
   "source": [
    "print(\"mean is :\"+ str(wcat.Waist.mean()))\n",
    "print(\"median is :\"+ str(wcat.Waist.median()))\n",
    "print(\"mode is:\",wcat.Waist.mode())\n",
    "print(\"skewness is:\"+ str(wcat.Waist.skew()))"
   ]
  },
  {
   "cell_type": "code",
   "execution_count": 34,
   "metadata": {},
   "outputs": [
    {
     "name": "stdout",
     "output_type": "stream",
     "text": [
      "mean is :101.89403669724771\n",
      "median is :96.54\n",
      "mode is: 0    121.0\n",
      "1    123.0\n",
      "dtype: float64\n",
      "skewness is:0.584869324127853\n"
     ]
    }
   ],
   "source": [
    "print(\"mean is :\"+ str(wcat.AT.mean()))\n",
    "print(\"median is :\"+ str(wcat.AT.median()))\n",
    "print(\"mode is:\",wcat.AT.mode())\n",
    "print(\"skewness is:\"+ str(wcat.AT.skew()))"
   ]
  },
  {
   "cell_type": "code",
   "execution_count": 55,
   "metadata": {},
   "outputs": [
    {
     "name": "stderr",
     "output_type": "stream",
     "text": [
      "C:\\Users\\Anusha\\anaconda3\\lib\\site-packages\\seaborn\\distributions.py:2551: FutureWarning: `distplot` is a deprecated function and will be removed in a future version. Please adapt your code to use either `displot` (a figure-level function with similar flexibility) or `histplot` (an axes-level function for histograms).\n",
      "  warnings.warn(msg, FutureWarning)\n"
     ]
    },
    {
     "data": {
      "image/png": "[encoded data removed]",
      "text/plain": [
       "<Figure size 432x288 with 1 Axes>"
      ]
     },
     "metadata": {
      "needs_background": "light"
     },
     "output_type": "display_data"
    }
   ],
   "source": [
    "import matplotlib.pyplot as plt\n",
    "import seaborn as sn\n",
    "\n",
    "sn.distplot(wcat.AT, label = 'WC_AT_Waist');\n",
    "plt.xlabel('AT');\n",
    "plt.ylabel('Density');\n",
    "plt.legend();"
   ]
  },
  {
   "cell_type": "markdown",
   "metadata": {},
   "source": [
    "# question No 22"
   ]
  },
  {
   "cell_type": "code",
   "execution_count": 56,
   "metadata": {},
   "outputs": [
    {
     "name": "stdout",
     "output_type": "stream",
     "text": [
      "The Z score at 94% confidence is:  1.645\n"
     ]
    }
   ],
   "source": [
    "from scipy import stats\n",
    "round(stats.norm.ppf(.95),4)\n",
    "print(\"The Z score at 90% confidence is: \",round(stats.norm.ppf(.95),3))"
   ]
  },
  {
   "cell_type": "code",
   "execution_count": 73,
   "metadata": {},
   "outputs": [
    {
     "name": "stdout",
     "output_type": "stream",
     "text": [
      "The Z score at 94% confidence is:  1.881\n"
     ]
    }
   ],
   "source": [
    "from scipy import stats\n",
    "round(stats.norm.ppf(.97),4)\n",
    "print(\"The Z score at 94% confidence is: \",round(stats.norm.ppf(.97),3))"
   ]
  },
  {
   "cell_type": "code",
   "execution_count": 77,
   "metadata": {},
   "outputs": [
    {
     "name": "stdout",
     "output_type": "stream",
     "text": [
      "The Z score at 60% confidence is: 0.842\n"
     ]
    }
   ],
   "source": [
    "from scipy import stats\n",
    "print(\"The Z score at 60% confidence is:\",round(stats.norm.ppf(.80),3))"
   ]
  },
  {
   "cell_type": "markdown",
   "metadata": {},
   "source": [
    "# question No 23"
   ]
  },
  {
   "cell_type": "code",
   "execution_count": 78,
   "metadata": {},
   "outputs": [
    {
     "name": "stdout",
     "output_type": "stream",
     "text": [
      "The t score at 95% confidence is: 2.064\n",
      "The t score at 96% confidence is: 2.172\n",
      "The t score at 99% confidence is: 2.797\n"
     ]
    }
   ],
   "source": [
    "from scipy import stats\n",
    "print(\"The t score at 95% confidence is:\",round(stats.t.ppf(.975,24),3))\n",
    "print(\"The t score at 96% confidence is:\",round(stats.t.ppf(.98,24),3))\n",
    "print(\"The t score at 99% confidence is:\",round(stats.t.ppf(.995,24),3))"
   ]
  },
  {
   "cell_type": "markdown",
   "metadata": {},
   "source": [
    "# question No.24"
   ]
  },
  {
   "cell_type": "code",
   "execution_count": 5,
   "metadata": {},
   "outputs": [
    {
     "name": "stdout",
     "output_type": "stream",
     "text": [
      "The probality of bulb avg life less than 260: 0.32216394448907903\n"
     ]
    },
    {
     "data": {
      "text/plain": [
       "0.32216394448907915"
      ]
     },
     "execution_count": 5,
     "metadata": {},
     "output_type": "execute_result"
    }
   ],
   "source": [
    "# tscore value is :-0.47\n",
    "# probability trhrough T test\n",
    "#stats.t.cdf(t-value,df = n-1)\n",
    "from scipy import stats\n",
    "a = stats.t.cdf(-0.47,17)\n",
    "print(\"The probality of bulb avg life less than 260:\",a)\n",
    "# or we can do \n",
    "1-stats.t.cdf(0.47,17)"
   ]
  },
  {
   "cell_type": "code",
   "execution_count": 3,
   "metadata": {},
   "outputs": [
    {
     "data": {
      "text/plain": [
       "0.32216394448907915"
      ]
     },
     "execution_count": 3,
     "metadata": {},
     "output_type": "execute_result"
    }
   ],
   "source": []
  },
  {
   "cell_type": "code",
   "execution_count": null,
   "metadata": {},
   "outputs": [],
   "source": []
  }
 ],
 "metadata": {
  "kernelspec": {
   "display_name": "Python 3",
   "language": "python",
   "name": "python3"
  },
  "language_info": {
   "codemirror_mode": {
    "name": "ipython",
    "version": 3
   },
   "file_extension": ".py",
   "mimetype": "text/x-python",
   "name": "python",
   "nbconvert_exporter": "python",
   "pygments_lexer": "ipython3",
   "version": "3.8.5"
  }
 },
 "nbformat": 4,
 "nbformat_minor": 4
}
